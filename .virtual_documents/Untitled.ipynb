import pandas as pd
import numpy as np
import matplotlib.pyplot as plt
import seaborn as sns


precipitation = pd.read_csv("precipitation.csv")
maxt = pd.read_csv("maxt.csv")
mint = pd.read_csv("mint.csv")


precipitation.head()


precipitation.dtypes


pd.to_datetime(precipitation['Date']).dt.date


precip = precipitation.drop(['Date'], axis=1)


precip = precip.drop(['Year'], axis=1)


pplot = precip.plot(x='Month')



