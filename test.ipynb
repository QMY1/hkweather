{
 "cells": [
  {
   "cell_type": "code",
   "execution_count": 1,
   "id": "c28e214a-c913-43c7-8850-bc9d39178d91",
   "metadata": {},
   "outputs": [],
   "source": [
    "from hkweather import SceneCollection as SC"
   ]
  },
  {
   "cell_type": "code",
   "execution_count": 2,
   "id": "c95df505-e84b-4bd0-9501-fdbadbdb6873",
   "metadata": {},
   "outputs": [
    {
     "name": "stdout",
     "output_type": "stream",
     "text": [
      "{'LE07_L1TP_149035_20010101_20200917_02_T1': <hkweather.landsat.Scene object at 0x7f76fc33f5d0>, 'LE07_L1TP_149035_20010930_20200917_02_T1': <hkweather.landsat.Scene object at 0x7f76a0963d10>}\n"
     ]
    }
   ],
   "source": [
    "directory = 'data'\n",
    "collection = SC(directory)\n",
    "collection.get_scenes()\n",
    "print(collection.scenes)\n",
    "collection.process_scenes()"
   ]
  },
  {
   "cell_type": "code",
   "execution_count": null,
   "id": "efa9c57f-048d-4bc8-bebc-252fb800efe1",
   "metadata": {},
   "outputs": [],
   "source": []
  }
 ],
 "metadata": {
  "kernelspec": {
   "display_name": "hkweather",
   "language": "python",
   "name": "hkweather"
  },
  "language_info": {
   "codemirror_mode": {
    "name": "ipython",
    "version": 3
   },
   "file_extension": ".py",
   "mimetype": "text/x-python",
   "name": "python",
   "nbconvert_exporter": "python",
   "pygments_lexer": "ipython3",
   "version": "3.11.6"
  }
 },
 "nbformat": 4,
 "nbformat_minor": 5
}
