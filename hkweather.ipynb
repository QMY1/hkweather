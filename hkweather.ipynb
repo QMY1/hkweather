{
 "cells": [
  {
   "cell_type": "code",
   "execution_count": 5,
   "id": "a2aa5dd9-a55e-4f29-b553-caee453fbc47",
   "metadata": {},
   "outputs": [],
   "source": [
    "import pandas as pd\n",
    "import statsmodels"
   ]
  },
  {
   "cell_type": "code",
   "execution_count": 2,
   "id": "2bb08ccf-ad03-4efa-9be6-6eb3e69b7a17",
   "metadata": {},
   "outputs": [],
   "source": [
    "import os\n",
    "import tarfile"
   ]
  },
  {
   "cell_type": "code",
   "execution_count": 10,
   "id": "ea5cf9c1-ef5c-47ea-a24d-6c07438d2205",
   "metadata": {},
   "outputs": [
    {
     "data": {
      "text/plain": [
       "65536"
      ]
     },
     "execution_count": 10,
     "metadata": {},
     "output_type": "execute_result"
    }
   ],
   "source": [
    "2**16"
   ]
  },
  {
   "cell_type": "code",
   "execution_count": 4,
   "id": "6f680801-2cb6-4bb0-b45e-57ba14accbdb",
   "metadata": {},
   "outputs": [
    {
     "name": "stdout",
     "output_type": "stream",
     "text": [
      "opening./Level_2/1990/LT05_L2SP_149035_19900807_20200915_02_T1.tar\n",
      "Extracting LT05_L2SP_149035_19900807_20200915_02_T1.tar to ./Level_2/LT05_L2SP_149035_19900807_20200915_02_T1\n",
      "opening./Level_2/1991/LT05_L2SP_149035_19910130_20200915_02_T1.tar\n",
      "Extracting LT05_L2SP_149035_19910130_20200915_02_T1.tar to ./Level_2/LT05_L2SP_149035_19910130_20200915_02_T1\n",
      "opening./Level_2/1992/LT05_L2SP_149035_19920202_20200914_02_T1.tar\n",
      "Extracting LT05_L2SP_149035_19920202_20200914_02_T1.tar to ./Level_2/LT05_L2SP_149035_19920202_20200914_02_T1\n",
      "opening./Level_2/1992/LT05_L2SP_149035_19920218_20200914_02_T1.tar\n",
      "Extracting LT05_L2SP_149035_19920218_20200914_02_T1.tar to ./Level_2/LT05_L2SP_149035_19920218_20200914_02_T1\n",
      "opening./Level_2/1992/LT05_L2SP_149035_19920305_20200914_02_T2.tar\n",
      "Extracting LT05_L2SP_149035_19920305_20200914_02_T2.tar to ./Level_2/LT05_L2SP_149035_19920305_20200914_02_T2\n",
      "opening./Level_2/1992/LT05_L2SP_149035_19921202_20200914_02_T1.tar\n",
      "Extracting LT05_L2SP_149035_19921202_20200914_02_T1.tar to ./Level_2/LT05_L2SP_149035_19921202_20200914_02_T1\n",
      "opening./Level_2/1993/LT05_L2SP_149035_19930425_20200914_02_T1.tar\n",
      "Extracting LT05_L2SP_149035_19930425_20200914_02_T1.tar to ./Level_2/LT05_L2SP_149035_19930425_20200914_02_T1\n",
      "opening./Level_2/1993/LT05_L2SP_149035_19930612_20200914_02_T1.tar\n",
      "Extracting LT05_L2SP_149035_19930612_20200914_02_T1.tar to ./Level_2/LT05_L2SP_149035_19930612_20200914_02_T1\n",
      "opening./Level_2/1993/LT05_L2SP_149035_19931119_20200913_02_T1.tar\n",
      "Extracting LT05_L2SP_149035_19931119_20200913_02_T1.tar to ./Level_2/LT05_L2SP_149035_19931119_20200913_02_T1\n",
      "opening./Level_2/1994/LT05_L2SP_149035_19940106_20200913_02_T1.tar\n",
      "Extracting LT05_L2SP_149035_19940106_20200913_02_T1.tar to ./Level_2/LT05_L2SP_149035_19940106_20200913_02_T1\n",
      "opening./Level_2/1994/LT05_L2SP_149035_19940428_20200913_02_T1.tar\n",
      "Extracting LT05_L2SP_149035_19940428_20200913_02_T1.tar to ./Level_2/LT05_L2SP_149035_19940428_20200913_02_T1\n",
      "opening./Level_2/1994/LT05_L2SP_149035_19940701_20200913_02_T1.tar\n",
      "Extracting LT05_L2SP_149035_19940701_20200913_02_T1.tar to ./Level_2/LT05_L2SP_149035_19940701_20200913_02_T1\n",
      "opening./Level_2/1994/LT05_L2SP_149035_19940717_20200913_02_T1.tar\n",
      "Extracting LT05_L2SP_149035_19940717_20200913_02_T1.tar to ./Level_2/LT05_L2SP_149035_19940717_20200913_02_T1\n",
      "opening./Level_2/1994/LT05_L2SP_149035_19941021_20200913_02_T1.tar\n",
      "Extracting LT05_L2SP_149035_19941021_20200913_02_T1.tar to ./Level_2/LT05_L2SP_149035_19941021_20200913_02_T1\n",
      "opening./Level_2/1994/LT05_L2SP_149035_19941106_20200912_02_T1.tar\n",
      "Extracting LT05_L2SP_149035_19941106_20200912_02_T1.tar to ./Level_2/LT05_L2SP_149035_19941106_20200912_02_T1\n",
      "opening./Level_2/1994/LT05_L2SP_149035_19941122_20200913_02_T1.tar\n",
      "Extracting LT05_L2SP_149035_19941122_20200913_02_T1.tar to ./Level_2/LT05_L2SP_149035_19941122_20200913_02_T1\n",
      "opening./Level_2/1994/LT05_L2SP_149035_19941208_20200912_02_T2.tar\n",
      "Extracting LT05_L2SP_149035_19941208_20200912_02_T2.tar to ./Level_2/LT05_L2SP_149035_19941208_20200912_02_T2\n",
      "opening./Level_2/1995/LT05_L2SP_149035_19951024_20200912_02_T1.tar\n",
      "Extracting LT05_L2SP_149035_19951024_20200912_02_T1.tar to ./Level_2/LT05_L2SP_149035_19951024_20200912_02_T1\n",
      "opening./Level_2/1995/LT05_L2SP_149035_19951109_20200912_02_T1.tar\n",
      "Extracting LT05_L2SP_149035_19951109_20200912_02_T1.tar to ./Level_2/LT05_L2SP_149035_19951109_20200912_02_T1\n",
      "opening./Level_2/1996/LT05_L2SP_149035_19960112_20200911_02_T2.tar\n",
      "Extracting LT05_L2SP_149035_19960112_20200911_02_T2.tar to ./Level_2/LT05_L2SP_149035_19960112_20200911_02_T2\n",
      "opening./Level_2/1996/LT05_L2SP_149035_19960128_20200911_02_T1.tar\n",
      "Extracting LT05_L2SP_149035_19960128_20200911_02_T1.tar to ./Level_2/LT05_L2SP_149035_19960128_20200911_02_T1\n",
      "opening./Level_2/1996/LT05_L2SP_149035_19960401_20200911_02_T1.tar\n",
      "Extracting LT05_L2SP_149035_19960401_20200911_02_T1.tar to ./Level_2/LT05_L2SP_149035_19960401_20200911_02_T1\n",
      "opening./Level_2/1996/LT05_L2SP_149035_19960417_20200911_02_T1.tar\n",
      "Extracting LT05_L2SP_149035_19960417_20200911_02_T1.tar to ./Level_2/LT05_L2SP_149035_19960417_20200911_02_T1\n",
      "opening./Level_2/1997/LT05_L2SP_149035_19970810_20200910_02_T1.tar\n",
      "Extracting LT05_L2SP_149035_19970810_20200910_02_T1.tar to ./Level_2/LT05_L2SP_149035_19970810_20200910_02_T1\n",
      "opening./Level_2/1998/LT05_L2SP_149035_19980813_20200908_02_T1.tar\n",
      "Extracting LT05_L2SP_149035_19980813_20200908_02_T1.tar to ./Level_2/LT05_L2SP_149035_19980813_20200908_02_T1\n",
      "opening./Level_2/1998/LT05_L2SP_149035_19980829_20200908_02_T1.tar\n",
      "Extracting LT05_L2SP_149035_19980829_20200908_02_T1.tar to ./Level_2/LT05_L2SP_149035_19980829_20200908_02_T1\n",
      "opening./Level_2/1998/LT05_L2SP_149035_19981101_20200908_02_T1.tar\n",
      "Extracting LT05_L2SP_149035_19981101_20200908_02_T1.tar to ./Level_2/LT05_L2SP_149035_19981101_20200908_02_T1\n"
     ]
    }
   ],
   "source": [
    "root = './Level_2'\n",
    "for path, directories, files in os.walk(root):\n",
    "    for f in files:\n",
    "        if f.endswith(\".tar\"):\n",
    "            print(f'opening{os.path.join(path,f)}')\n",
    "            try:\n",
    "                tar = tarfile.open(os.path.join(path,f), 'r:')\n",
    "                ndir = f.split(\".\")[0].strip()\n",
    "                outpath = os.path.join(root,ndir)\n",
    "                print(f\"Extracting {f} to {outpath}\")\n",
    "                tar.extractall(path=outpath)\n",
    "                tar.close()\n",
    "            except:\n",
    "                continue"
   ]
  },
  {
   "cell_type": "code",
   "execution_count": 7,
   "id": "5d3e3692-c0ce-4eaa-b936-f1536b72d37c",
   "metadata": {},
   "outputs": [
    {
     "name": "stdout",
     "output_type": "stream",
     "text": [
      "L = L1, P = SP\n"
     ]
    }
   ],
   "source": [
    "level = \"L1SP\"\n",
    "\n",
    "print(f\"L = {level[:2]}, P = {level[2:]}\")"
   ]
  },
  {
   "cell_type": "code",
   "execution_count": null,
   "id": "d9bbf6e8-6683-4761-a818-5bf65c662f47",
   "metadata": {},
   "outputs": [],
   "source": []
  }
 ],
 "metadata": {
  "kernelspec": {
   "display_name": "hkweather",
   "language": "python",
   "name": "hkweather"
  },
  "language_info": {
   "codemirror_mode": {
    "name": "ipython",
    "version": 3
   },
   "file_extension": ".py",
   "mimetype": "text/x-python",
   "name": "python",
   "nbconvert_exporter": "python",
   "pygments_lexer": "ipython3",
   "version": "3.11.6"
  }
 },
 "nbformat": 4,
 "nbformat_minor": 5
}
